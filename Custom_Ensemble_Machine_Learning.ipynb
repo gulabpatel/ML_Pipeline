{
  "nbformat": 4,
  "nbformat_minor": 0,
  "metadata": {
    "kernelspec": {
      "display_name": "Python 3",
      "language": "python",
      "name": "python3"
    },
    "language_info": {
      "codemirror_mode": {
        "name": "ipython",
        "version": 3
      },
      "file_extension": ".py",
      "mimetype": "text/x-python",
      "name": "python",
      "nbconvert_exporter": "python",
      "pygments_lexer": "ipython3",
      "version": "3.7.7"
    },
    "colab": {
      "name": "Custom_Ensemble_Machine_Learning.ipynb",
      "provenance": [],
      "include_colab_link": true
    }
  },
  "cells": [
    {
      "cell_type": "markdown",
      "metadata": {
        "id": "view-in-github",
        "colab_type": "text"
      },
      "source": [
        "<a href=\"https://colab.research.google.com/github/gulabpatel/ML_Pipeline/blob/main/Custom_Ensemble_Machine_Learning.ipynb\" target=\"_parent\"><img src=\"https://colab.research.google.com/assets/colab-badge.svg\" alt=\"Open In Colab\"/></a>"
      ]
    },
    {
      "cell_type": "markdown",
      "metadata": {
        "id": "dNH9LjhEcK9R"
      },
      "source": [
        "## Custom Ensemble Machine Learning Algorithms"
      ]
    },
    {
      "cell_type": "code",
      "metadata": {
        "id": "IoSgPJ6EcK9S"
      },
      "source": [
        "## Creating synthetic Data Points\n",
        "from sklearn.datasets import make_classification\n",
        "# define dataset\n",
        "X, y = make_classification(n_samples=1000, n_features=20, n_informative=15, n_redundant=5, random_state=1)"
      ],
      "execution_count": 1,
      "outputs": []
    },
    {
      "cell_type": "code",
      "metadata": {
        "id": "P1qVwaxUcK9S",
        "colab": {
          "base_uri": "https://localhost:8080/"
        },
        "outputId": "9cceda47-5c9b-4d8b-e06a-a8e07fc39729"
      },
      "source": [
        "X"
      ],
      "execution_count": 2,
      "outputs": [
        {
          "output_type": "execute_result",
          "data": {
            "text/plain": [
              "array([[  2.47475454,   0.40165523,   1.68081787, ...,  -6.59044146,\n",
              "         -2.21290585,  -3.139579  ],\n",
              "       [  0.84802507,   2.81841945,  -2.76008732, ...,   3.00844461,\n",
              "          0.78661954,  -1.27681551],\n",
              "       [ -1.90041246,  -0.56901823,  -1.76220236, ...,   3.37336417,\n",
              "         -2.28613707,   1.90344983],\n",
              "       ...,\n",
              "       [  0.7673844 ,  -2.91920559,   2.80851577, ...,   4.42591832,\n",
              "          0.46321196,  -3.30523346],\n",
              "       [  2.05510667,  -0.99009741,   0.73577291, ...,   3.05100898,\n",
              "         -1.40715279,  -0.51579331],\n",
              "       [-10.96847792,  -2.39810735,  -0.96700953, ..., -11.16298557,\n",
              "          1.16646392,   0.60835176]])"
            ]
          },
          "metadata": {
            "tags": []
          },
          "execution_count": 2
        }
      ]
    },
    {
      "cell_type": "code",
      "metadata": {
        "id": "VplmV7hucK9U"
      },
      "source": [
        "from collections import Counter\n",
        "counter=Counter(y)"
      ],
      "execution_count": 3,
      "outputs": []
    },
    {
      "cell_type": "code",
      "metadata": {
        "id": "Y0lkZBr6cK9U",
        "outputId": "ae8a1093-3d7f-45d7-d0e0-6082a59451b0"
      },
      "source": [
        "counter"
      ],
      "execution_count": null,
      "outputs": [
        {
          "output_type": "execute_result",
          "data": {
            "text/plain": [
              "Counter({0: 501, 1: 499})"
            ]
          },
          "metadata": {
            "tags": []
          },
          "execution_count": 6
        }
      ]
    },
    {
      "cell_type": "code",
      "metadata": {
        "id": "ckiXvmGicK9U"
      },
      "source": [
        "from sklearn.tree import DecisionTreeClassifier\n",
        "from sklearn.ensemble import RandomForestClassifier\n",
        "from sklearn.svm import SVC\n",
        "from sklearn.model_selection import cross_val_score\n",
        "from sklearn.model_selection import RepeatedStratifiedKFold\n",
        "from sklearn.ensemble import VotingClassifier\n",
        "from sklearn.pipeline import Pipeline"
      ],
      "execution_count": 4,
      "outputs": []
    },
    {
      "cell_type": "code",
      "metadata": {
        "id": "zrOXiYIiczJs"
      },
      "source": [
        "# get models\n",
        "# get a voting ensemble of models\n",
        "# define the base models\n",
        "models = list()\n",
        "\n",
        "decision_tree = Pipeline([('m', DecisionTreeClassifier())])\n",
        "models.append(('decision', decision_tree))\n",
        "\n",
        "randomforest = Pipeline([('m', RandomForestClassifier())])\n",
        "models.append(('randomforest', randomforest))\n",
        "\n",
        "svc = Pipeline([('m', SVC())])\n",
        "models.append(('svc', svc))"
      ],
      "execution_count": 5,
      "outputs": []
    },
    {
      "cell_type": "code",
      "metadata": {
        "id": "9ig1NzEQcK9U",
        "colab": {
          "base_uri": "https://localhost:8080/"
        },
        "outputId": "31a06223-c626-48a1-ace0-ee43dc089a21"
      },
      "source": [
        "models"
      ],
      "execution_count": 6,
      "outputs": [
        {
          "output_type": "execute_result",
          "data": {
            "text/plain": [
              "[('decision', Pipeline(memory=None,\n",
              "           steps=[('m',\n",
              "                   DecisionTreeClassifier(ccp_alpha=0.0, class_weight=None,\n",
              "                                          criterion='gini', max_depth=None,\n",
              "                                          max_features=None, max_leaf_nodes=None,\n",
              "                                          min_impurity_decrease=0.0,\n",
              "                                          min_impurity_split=None,\n",
              "                                          min_samples_leaf=1, min_samples_split=2,\n",
              "                                          min_weight_fraction_leaf=0.0,\n",
              "                                          presort='deprecated', random_state=None,\n",
              "                                          splitter='best'))],\n",
              "           verbose=False)), ('randomforest', Pipeline(memory=None,\n",
              "           steps=[('m',\n",
              "                   RandomForestClassifier(bootstrap=True, ccp_alpha=0.0,\n",
              "                                          class_weight=None, criterion='gini',\n",
              "                                          max_depth=None, max_features='auto',\n",
              "                                          max_leaf_nodes=None, max_samples=None,\n",
              "                                          min_impurity_decrease=0.0,\n",
              "                                          min_impurity_split=None,\n",
              "                                          min_samples_leaf=1, min_samples_split=2,\n",
              "                                          min_weight_fraction_leaf=0.0,\n",
              "                                          n_estimators=100, n_jobs=None,\n",
              "                                          oob_score=False, random_state=None,\n",
              "                                          verbose=0, warm_start=False))],\n",
              "           verbose=False)), ('svc', Pipeline(memory=None,\n",
              "           steps=[('m',\n",
              "                   SVC(C=1.0, break_ties=False, cache_size=200, class_weight=None,\n",
              "                       coef0=0.0, decision_function_shape='ovr', degree=3,\n",
              "                       gamma='scale', kernel='rbf', max_iter=-1,\n",
              "                       probability=False, random_state=None, shrinking=True,\n",
              "                       tol=0.001, verbose=False))],\n",
              "           verbose=False))]"
            ]
          },
          "metadata": {
            "tags": []
          },
          "execution_count": 6
        }
      ]
    },
    {
      "cell_type": "code",
      "metadata": {
        "id": "-k48t9hkeiPG"
      },
      "source": [
        "# define the voting ensemble\n",
        "ensemble = VotingClassifier(estimators=models, voting='hard')"
      ],
      "execution_count": 7,
      "outputs": []
    },
    {
      "cell_type": "code",
      "metadata": {
        "id": "iDDW6uuCcK9U",
        "colab": {
          "base_uri": "https://localhost:8080/"
        },
        "outputId": "a5650b93-5038-4ee1-ddb1-0eabebcba81e"
      },
      "source": [
        "ensemble"
      ],
      "execution_count": 8,
      "outputs": [
        {
          "output_type": "execute_result",
          "data": {
            "text/plain": [
              "VotingClassifier(estimators=[('decision',\n",
              "                              Pipeline(memory=None,\n",
              "                                       steps=[('m',\n",
              "                                               DecisionTreeClassifier(ccp_alpha=0.0,\n",
              "                                                                      class_weight=None,\n",
              "                                                                      criterion='gini',\n",
              "                                                                      max_depth=None,\n",
              "                                                                      max_features=None,\n",
              "                                                                      max_leaf_nodes=None,\n",
              "                                                                      min_impurity_decrease=0.0,\n",
              "                                                                      min_impurity_split=None,\n",
              "                                                                      min_samples_leaf=1,\n",
              "                                                                      min_samples_split=2,\n",
              "                                                                      min_weight_fraction_leaf=0.0,\n",
              "                                                                      presort='deprecated',\n",
              "                                                                      random_state...\n",
              "                                       verbose=False)),\n",
              "                             ('svc',\n",
              "                              Pipeline(memory=None,\n",
              "                                       steps=[('m',\n",
              "                                               SVC(C=1.0, break_ties=False,\n",
              "                                                   cache_size=200,\n",
              "                                                   class_weight=None, coef0=0.0,\n",
              "                                                   decision_function_shape='ovr',\n",
              "                                                   degree=3, gamma='scale',\n",
              "                                                   kernel='rbf', max_iter=-1,\n",
              "                                                   probability=False,\n",
              "                                                   random_state=None,\n",
              "                                                   shrinking=True, tol=0.001,\n",
              "                                                   verbose=False))],\n",
              "                                       verbose=False))],\n",
              "                 flatten_transform=True, n_jobs=None, voting='hard',\n",
              "                 weights=None)"
            ]
          },
          "metadata": {
            "tags": []
          },
          "execution_count": 8
        }
      ]
    },
    {
      "cell_type": "code",
      "metadata": {
        "id": "_f40DSjCcK9U"
      },
      "source": [
        "cv = RepeatedStratifiedKFold(n_splits=10, n_repeats=3, random_state=1)\n",
        "n_scores = cross_val_score(ensemble, X, y, scoring='accuracy', cv=cv, n_jobs=-1)"
      ],
      "execution_count": 10,
      "outputs": []
    },
    {
      "cell_type": "code",
      "metadata": {
        "id": "a-E2H0PJcK9U",
        "colab": {
          "base_uri": "https://localhost:8080/"
        },
        "outputId": "4a58011e-27c5-4fcf-ea75-ac9a367142b7"
      },
      "source": [
        "n_scores"
      ],
      "execution_count": 11,
      "outputs": [
        {
          "output_type": "execute_result",
          "data": {
            "text/plain": [
              "array([0.95, 0.97, 0.94, 0.92, 0.9 , 0.96, 0.94, 0.92, 0.96, 0.95, 0.97,\n",
              "       0.92, 0.91, 0.96, 0.93, 0.94, 0.96, 0.95, 0.96, 0.95, 0.95, 0.98,\n",
              "       0.97, 0.96, 0.93, 0.91, 0.95, 0.93, 0.95, 0.9 ])"
            ]
          },
          "metadata": {
            "tags": []
          },
          "execution_count": 11
        }
      ]
    },
    {
      "cell_type": "code",
      "metadata": {
        "id": "K3vR_DnEcK9V",
        "colab": {
          "base_uri": "https://localhost:8080/"
        },
        "outputId": "6951ebdc-6b0c-4aab-bbcc-f84d31c0b029"
      },
      "source": [
        "n_scores.mean()"
      ],
      "execution_count": 12,
      "outputs": [
        {
          "output_type": "execute_result",
          "data": {
            "text/plain": [
              "0.9429999999999998"
            ]
          },
          "metadata": {
            "tags": []
          },
          "execution_count": 12
        }
      ]
    }
  ]
}